{
  "nbformat": 4,
  "nbformat_minor": 0,
  "metadata": {
    "colab": {
      "provenance": [],
      "authorship_tag": "ABX9TyNw8k8bjsjASFCsiVtpZ4ZU",
      "include_colab_link": true
    },
    "kernelspec": {
      "name": "python3",
      "display_name": "Python 3"
    },
    "language_info": {
      "name": "python"
    }
  },
  "cells": [
    {
      "cell_type": "markdown",
      "metadata": {
        "id": "view-in-github",
        "colab_type": "text"
      },
      "source": [
        "<a href=\"https://colab.research.google.com/github/rafi-vin/Tugas/blob/main/horoskop.ipynb\" target=\"_parent\"><img src=\"https://colab.research.google.com/assets/colab-badge.svg\" alt=\"Open In Colab\"/></a>"
      ]
    },
    {
      "cell_type": "markdown",
      "source": [
        "**Di bawah ini adalah program horoskop IF - ELIF**"
      ],
      "metadata": {
        "id": "1hYwihSF4bQX"
      }
    },
    {
      "cell_type": "code",
      "execution_count": 1,
      "metadata": {
        "id": "Zl4HE2g1-jVj",
        "colab": {
          "base_uri": "https://localhost:8080/"
        },
        "outputId": "6ea8c651-9dd3-4038-f8df-1370755a9a94"
      },
      "outputs": [
        {
          "output_type": "stream",
          "name": "stdout",
          "text": [
            "Maukan Nama Mobil Anda: Mazda RX7\n",
            "Masukan Nama Mesin Baru Untuk Mobil Anda: Rotary\n",
            "Berapa Rata-rata RPM yang bisa di hasilkan Mesin baru anda: 12000\n",
            "Rata-rata RPM yang di hasilkan (12000) dari mesin Rotary, sangatlah tinggi, mungkin saja cocok untuk mobil Mazda RX7\n"
          ]
        }
      ],
      "source": [
        "mobil = input(\"Maukan Nama Mobil Anda: \")\n",
        "mesin = input(\"Masukan Nama Mesin Baru Untuk Mobil Anda: \")\n",
        "kp = int(input(\"Berapa Rata-rata RPM yang bisa di hasilkan Mesin baru anda: \"))\n",
        "\n",
        "if kp >= 9500:\n",
        "    print(f\"Rata-rata RPM yang di hasilkan ({kp}) dari mesin {mesin}, sangatlah tinggi, mungkin saja cocok untuk mobil {mobil}\")\n",
        "elif kp >= 8000:\n",
        "    print(f\"Rata-rata RPM yang di hasilkan ({kp}) dari mesin {mesin}, cukup stabil untuk mobil {mobil}\")\n",
        "elif kp >= 7000:\n",
        "    print(f\"Rata-rata RPM yang di hasilkan ({kp}) dari mesin {mesin}, stabil cocok untuk mobil {mobil}\")\n",
        "else:\n",
        "    print(\"Ini terlalu rendah, mungkin kamu bisa mengecek ulang atau mengganti mesin yang lain\")"
      ]
    },
    {
      "cell_type": "markdown",
      "source": [
        "**Di bawah ini adalah program horoskop BOOLEAN**"
      ],
      "metadata": {
        "id": "V7jUkqy34Zw3"
      }
    },
    {
      "cell_type": "code",
      "source": [
        "buah1 = input(\"Masukan buah buah pertama: \")\n",
        "buah2 = input(\"Maukan buah ke dua: \")\n",
        "\n",
        "\n",
        "juice = bool(buah1) or bool(buah2)\n",
        "\n",
        "print(f\"Apakah buah {buah1} cock di juice dengan buah {buah2} = {juice}\")"
      ],
      "metadata": {
        "colab": {
          "base_uri": "https://localhost:8080/"
        },
        "id": "JXPZpG5w8SBd",
        "outputId": "ddaca49d-7761-4117-93ea-1faf9ff26c42"
      },
      "execution_count": 2,
      "outputs": [
        {
          "output_type": "stream",
          "name": "stdout",
          "text": [
            "Masukan buah buah pertama: Starwberry\n",
            "Maukan buah ke dua: Mangga\n",
            "Apakah buah Starwberry cock di juice dengan buah Mangga = True\n"
          ]
        }
      ]
    }
  ]
}