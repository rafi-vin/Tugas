{
  "nbformat": 4,
  "nbformat_minor": 0,
  "metadata": {
    "colab": {
      "provenance": [],
      "authorship_tag": "ABX9TyNtBesxcg+QYA60YpyRHZj0",
      "include_colab_link": true
    },
    "kernelspec": {
      "name": "python3",
      "display_name": "Python 3"
    },
    "language_info": {
      "name": "python"
    }
  },
  "cells": [
    {
      "cell_type": "markdown",
      "metadata": {
        "id": "view-in-github",
        "colab_type": "text"
      },
      "source": [
        "<a href=\"https://colab.research.google.com/github/rafi-vin/Tugas/blob/main/horoskop_if_elif.ipynb\" target=\"_parent\"><img src=\"https://colab.research.google.com/assets/colab-badge.svg\" alt=\"Open In Colab\"/></a>"
      ]
    },
    {
      "cell_type": "code",
      "execution_count": null,
      "metadata": {
        "id": "Zl4HE2g1-jVj"
      },
      "outputs": [],
      "source": [
        "mobil = input(\"Maukan Nama Mobil Anda: \")\n",
        "mesin = input(\"Masukan Nama Mesin Baru Untuk Mobil Anda: \")\n",
        "kp = int(input(\"Berapa Rata-rata RPM yang bisa di hasilkan Mesin baru anda: \"))\n",
        "\n",
        "if kp >= 9500:\n",
        "    print(f\"Rata-rata RPM yang di hasilkan ({kp}) dari mesin {mesin}, sangatlah tinggi, mungkin saja cocok untuk mobil {mobil}\")\n",
        "elif kp >= 8000:\n",
        "    print(f\"Rata-rata RPM yang di hasilkan ({kp}) dari mesin {mesin}, cukup stabil untuk mobil {mobil}\")\n",
        "elif kp >= 7000:\n",
        "    print(f\"Rata-rata RPM yang di hasilkan ({kp}) dari mesin {mesin}, stabil cocok untuk mobil {mobil}\")\n",
        "else:\n",
        "    print(\"Ini terlalu rendah, mungkin kamu bisa mengecek ulang atau mengganti mesin yang lain\")"
      ]
    }
  ]
}